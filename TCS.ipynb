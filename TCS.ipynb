{
  "nbformat": 4,
  "nbformat_minor": 0,
  "metadata": {
    "colab": {
      "name": "TCS.ipynb",
      "provenance": [],
      "authorship_tag": "ABX9TyPwum2g40rskyMUTJnC+6LF",
      "include_colab_link": true
    },
    "kernelspec": {
      "name": "python3",
      "display_name": "Python 3"
    }
  },
  "cells": [
    {
      "cell_type": "markdown",
      "metadata": {
        "id": "view-in-github",
        "colab_type": "text"
      },
      "source": [
        "<a href=\"https://colab.research.google.com/github/amithchennavar/PROJECT_1/blob/master/TCS.ipynb\" target=\"_parent\"><img src=\"https://colab.research.google.com/assets/colab-badge.svg\" alt=\"Open In Colab\"/></a>"
      ]
    },
    {
      "cell_type": "markdown",
      "metadata": {
        "id": "wc4RTwXr0i4W"
      },
      "source": [
        "CALCULATE LENGTH OF THE HYPOTENUSE OF RIGHT ANGLED TRIANGLE"
      ]
    },
    {
      "cell_type": "code",
      "metadata": {
        "id": "Ed-EuVZu0hcH",
        "outputId": "dd2ba6fe-6645-4dee-eb52-29a879ca9362",
        "colab": {
          "base_uri": "https://localhost:8080/",
          "height": 69
        }
      },
      "source": [
        "import math\n",
        "def hypo(h,b):\n",
        "  l=h**2 + b**2\n",
        "  length=math.sqrt(l)\n",
        "  return length\n",
        "\n",
        "#driver code\n",
        "h=float(input(\"enter the height:\"))\n",
        "b=float(input(\"enter the breadth:\"))\n",
        "print(hypo(h,b))\n",
        "\n"
      ],
      "execution_count": 3,
      "outputs": [
        {
          "output_type": "stream",
          "text": [
            "enter the height:12.4\n",
            "enter the breadth:34.6\n",
            "36.75486362374373\n"
          ],
          "name": "stdout"
        }
      ]
    },
    {
      "cell_type": "markdown",
      "metadata": {
        "id": "52_5x8CO2QtB"
      },
      "source": [
        "SAMPLE PROGRAM TO PRINT ALL INTEGERS USING COMMAND LINE\n",
        "ARGUMENTS\n"
      ]
    },
    {
      "cell_type": "code",
      "metadata": {
        "id": "IzYEvDpU15Hj"
      },
      "source": [
        ""
      ],
      "execution_count": null,
      "outputs": []
    }
  ]
}